{
 "cells": [
  {
   "cell_type": "code",
   "execution_count": 1,
   "metadata": {
    "ExecuteTime": {
     "end_time": "2017-07-26T22:00:53.080648Z",
     "start_time": "2017-07-26T22:00:52.841323Z"
    },
    "collapsed": true,
    "editable": true
   },
   "outputs": [],
   "source": [
    "import numpy as np\n",
    "import matplotlib.pyplot as plt"
   ]
  },
  {
   "cell_type": "code",
   "execution_count": 542,
   "metadata": {
    "ExecuteTime": {
     "end_time": "2017-07-27T12:50:24.244553Z",
     "start_time": "2017-07-27T12:50:23.687286Z"
    },
    "code_folding": [
     106,
     257
    ],
    "collapsed": true,
    "editable": true
   },
   "outputs": [],
   "source": [
    "class Maze(object):\n",
    "        \n",
    "    staff_y = [0,60]\n",
    "    staff_x = [0,10]\n",
    "    bar_y = [50,60]\n",
    "    bar_x = [-50,60]\n",
    "    target_x = [-50,-30]\n",
    "    target_y = [50,60]\n",
    "    pickup_x = [40,60]\n",
    "    pickup_y = [50,60]\n",
    "    \n",
    "    def __init__(self):\n",
    "        pass\n",
    "        \n",
    "    def valid_x(self,x):\n",
    "        if self.bar_x[0]<x<self.bar_x[1]:\n",
    "            inBar_x = True\n",
    "        else: inBar_x = False\n",
    "        if self.staff_x[0]<x<self.staff_x[1]:\n",
    "            inStaff_x = True\n",
    "        else: inStaff_x = False\n",
    "        return inBar_x, inStaff_x\n",
    "        \n",
    "    def valid_y(self,y):\n",
    "        if self.bar_y[0]<y<self.bar_y[1]:\n",
    "            inBar_y = True\n",
    "        else: inBar_y = False\n",
    "        if self.staff_y[0]<y<self.staff_y[1]:\n",
    "            inStaff_y = True\n",
    "        else: inStaff_y = False\n",
    "        return inBar_y, inStaff_y\n",
    "    \n",
    "    def rough_location(self,position):\n",
    "        inBar_x, inStaff_x = self.valid_x(position[0])\n",
    "        inBar_y, inStaff_y = self.valid_y(position[1])\n",
    "        inBar = inBar_x and inBar_y\n",
    "        inStaff = inStaff_x and inStaff_y\n",
    "        return inBar, inStaff\n",
    "    \n",
    "    def in_reward(self,position):\n",
    "        if position[0]<self.target_x[1]:\n",
    "            return True\n",
    "        else:\n",
    "            return False        \n",
    "    \n",
    "    def in_pickup(self,position):\n",
    "        if position[0]>self.pickup_x[0]:\n",
    "            return True\n",
    "        else:\n",
    "            return False\n",
    "    \n",
    "    \n",
    "class Agent(object):\n",
    "    \n",
    "    reward = {\n",
    "        'headache': -5,\n",
    "        'cheese': 20\n",
    "    }\n",
    "    \n",
    "    def __init__(self, pos = [5,0], eps = .99):\n",
    "        \n",
    "\n",
    "        self.position = np.array(pos)\n",
    "        self.maze = Maze()\n",
    "        self.inBar = False\n",
    "        self.inStaff = True\n",
    "        self.alpha = False\n",
    "        self.rewarded = False\n",
    "        self.placeFieldSize = 5\n",
    "        \n",
    "        self.eps = eps\n",
    "        self.gamma = 0.95\n",
    "        self.eta = 0.1\n",
    "        self.decayRate = 0.5\n",
    "        self.rt = 0\n",
    "        \n",
    "        self.placeCells = self.make_places()\n",
    "        self.numberIn = len(self.placeCells.T)\n",
    "        self.numberOut = 4 #given as value to start with\n",
    "        self.directions = 2*np.pi*np.arange(0,self.numberOut)/self.numberOut\n",
    "        \n",
    "        self.newActivation = None\n",
    "        self.input_layer()\n",
    "        self.oldActivation = self.newActivation\n",
    "        \n",
    "        self.weights = np.zeros((self.numberOut,len(self.newActivation.flatten()))) #2*np.random.random(size=(len(self.oldQ),len(self.oldActivation.flatten())))-1\n",
    "        self.trace = np.zeros_like(self.weights)\n",
    "        \n",
    "        self.newQ = None\n",
    "        self.output_layer()\n",
    "        self.oldQ = self.newQ\n",
    "\n",
    "        self.newAction = None\n",
    "        self.choose_action()\n",
    "        self.oldAction = self.newAction\n",
    "        \n",
    "        self.route = []\n",
    "        self.route.append(self.position)\n",
    "        \n",
    "        self.cumrew = [] #can be removed later maybe\n",
    "\n",
    "        self.epoch_num = 0\n",
    "        \n",
    "    def reset(self):\n",
    "        self.position = np.array([5,0])\n",
    "        self.inBar = False\n",
    "        self.inStaff = True\n",
    "        self.alpha = False\n",
    "        self.rewarded = False\n",
    "        self.route = []\n",
    "        self.trace = np.zeros_like(self.weights) #apparently this is important!\n",
    "\n",
    "        \n",
    "    def make_places(self, offset = 2.5, seperation = 5):\n",
    "        \"\"\"\n",
    "        Create the centers of the place cell activity.\n",
    "        \n",
    "        Args:\n",
    "        offset - how far from the edge the first place cell should\n",
    "        seperation - the distance between adjacent centers measured in one dimension\n",
    "        \n",
    "        For both the staff and the bar of the T maze meshgrids are created\n",
    "        (in such a way as to not overlap!) which are flattened and then h- and vstacked\n",
    "        to create a 2 x #(place cells) array that stores the centers\n",
    "        The offset is only taken into account on one side.\n",
    "        \"\"\"\n",
    "        x = np.arange(self.maze.bar_x[0]+offset,self.maze.bar_x[-1],seperation)\n",
    "        y = np.arange(self.maze.bar_y[0]+offset,self.maze.bar_y[-1],seperation)\n",
    "        XX, YY = np.meshgrid(x,y)\n",
    "        bargrid = np.vstack((XX.flatten(),YY.flatten()))\n",
    "        x = np.arange(self.maze.staff_x[0]+offset,self.maze.staff_x[-1],seperation)\n",
    "        y = np.arange(self.maze.staff_y[0]+offset,self.maze.bar_y[0],seperation)\n",
    "        XX, YY = np.meshgrid(x,y)\n",
    "        staffgrid = np.vstack((XX.flatten(),YY.flatten()))\n",
    "        cells = np.hstack((bargrid,staffgrid))\n",
    "        return cells\n",
    "    \n",
    "    def input_layer(self):\n",
    "        \"\"\"Compute the activation of the input layer for a given position and state and update the variable\n",
    "        \"\"\"\n",
    "        activation = np.zeros((2,self.numberIn))\n",
    "        for i in range(len(activation)):\n",
    "            kronecker = bool(i)==self.alpha\n",
    "            activation[i] = kronecker*np.exp(-np.sum((self.placeCells.T-self.position)**2,axis=1)/(2*self.placeFieldSize**2))\n",
    "        self.newActivation = activation\n",
    "        \n",
    "    def output_layer(self):\n",
    "        self.newQ = np.dot(self.weights,self.newActivation.flatten())\n",
    "        \n",
    "    def choose_action(self):\n",
    "        \"\"\"\n",
    "        Eps-greedy action policy\n",
    "        \"\"\"\n",
    "        if np.random.random() < self.eps:\n",
    "            self.newAction = np.random.randint(self.numberOut)\n",
    "        else:\n",
    "            self.newAction = self.newQ.argmax()\n",
    "        \n",
    "    def valid_move(self,new_position):\n",
    "        \"\"\"\n",
    "        Checks if a move is valid, and changes state variables accordingly\n",
    "        \"\"\"\n",
    "        inBar, inStaff = self.maze.rough_location(new_position)\n",
    "        if self.inBar==inBar or self.inStaff==inStaff:\n",
    "            if inBar or inStaff:\n",
    "                self.inBar = inBar\n",
    "                self.inStaff = inStaff\n",
    "                return True\n",
    "            else: return False\n",
    "        else: return False\n",
    "    \n",
    "    def check_task(self):     \n",
    "        if not self.alpha:\n",
    "            self.alpha = self.maze.in_pickup(self.position)\n",
    "        else:\n",
    "            if self.maze.in_reward(self.position):\n",
    "                self.rewarded = True\n",
    "        return self.rewarded\n",
    "    \n",
    "    def move(self):\n",
    "        direction = self.directions[self.newAction]\n",
    "        distance = np.random.normal(loc=3,scale=1.5)\n",
    "        move = np.array([np.cos(direction),np.sin(direction)]) * distance\n",
    "        new_position = self.position + move\n",
    "        wall = not self.valid_move(new_position)\n",
    "        if not wall:\n",
    "            self.position = new_position\n",
    "        return wall    \n",
    "\n",
    "    def trace_update(self):\n",
    "        self.trace *= (self.gamma * self.decayRate)\n",
    "        self.trace[self.oldAction, :] += self.oldActivation.flatten()\n",
    "        \n",
    "        \n",
    "    def Q_update(self):\n",
    "        delta_t = self.rt + self.gamma * self.newQ[self.newAction] - self.oldQ[self.oldAction]\n",
    "        delta_w = self.eta * delta_t.T * self.trace\n",
    "        self.weights += delta_w\n",
    "#         self.weights/=np.max(np.abs(self.weights))\n",
    "        #normalizing weights does nothing! nothing!\n",
    "    def step(self, verbose = False):\n",
    "        \n",
    "        wall = self.move() \n",
    "        self.rt += self.reward['headache'] * int(wall)\n",
    "        rewarded = self.check_task()        \n",
    "        self.rt += self.reward['cheese'] * int(rewarded)\n",
    "        \n",
    "        self.input_layer() # compute newActivation\n",
    "        self.output_layer()    # update newQ with (old) weights\n",
    "        self.choose_action() #choose newAction\n",
    "    \n",
    "        if verbose:\n",
    "            print('valid: ', valid)\n",
    "            print('rewarded:' , rewarded)\n",
    "            print('r_t: ', self.rt)\n",
    "\n",
    "        self.trace_update()\n",
    "        self.Q_update()\n",
    "        \n",
    "        self.oldActivation = self.newActivation\n",
    "        self.oldQ = self.newQ\n",
    "        self.oldAction = self.newAction\n",
    "        self.cumrew.append(self.rt)\n",
    "        self.rt = 0\n",
    "        self.route.append(self.position)\n",
    "        \n",
    "        \n",
    "    def trial(self, eta_decay = 0.8, plot = False):\n",
    "        self.reset()\n",
    "        k=0\n",
    "        alpha_ = False\n",
    "        while not self.rewarded:\n",
    "            if k == 100000:\n",
    "                    break\n",
    "            self.step()\n",
    "            if self.alpha and not alpha_:\n",
    "                pickupsteps = k\n",
    "                print(('found pickup after %.d steps'%(k)))\n",
    "                alpha_ = True\n",
    "            k+=1  \n",
    "            \n",
    "            \n",
    "        print()\n",
    "        print(('made it to target area after %.d steps'%(k)))\n",
    "        \n",
    "        self.eps *= eta_decay\n",
    "                \n",
    "        if plot:     \n",
    "            route = np.asarray(self.route)\n",
    "            plt.plot(route[:,0], route[:,1])\n",
    "            plt.gca().set_aspect('equal')\n",
    "            plt.show()\n",
    "                        \n",
    "def test_place(position):\n",
    "    mouse = Agent()\n",
    "    mouse.position=position\n",
    "    mouse.input_layer()\n",
    "    cells = mouse.map\n",
    "    act = mouse.newActivation[0]\n",
    "    plt.scatter(cells[0],cells[1],c=act)\n",
    "    plt.scatter(position[0],position[1],marker='x')\n",
    "    plt.axvline(position[0])\n",
    "    plt.axhline(position[1])\n",
    "    plt.show()"
   ]
  },
  {
   "cell_type": "code",
   "execution_count": 543,
   "metadata": {
    "ExecuteTime": {
     "end_time": "2017-07-27T12:50:25.013341Z",
     "start_time": "2017-07-27T12:50:24.977698Z"
    },
    "collapsed": false,
    "editable": true
   },
   "outputs": [],
   "source": [
    "mouse = Agent(eps = 0.9)"
   ]
  },
  {
   "cell_type": "code",
   "execution_count": 574,
   "metadata": {
    "ExecuteTime": {
     "end_time": "2017-07-27T12:51:02.749402Z",
     "start_time": "2017-07-27T12:51:02.597241Z"
    },
    "collapsed": false,
    "editable": true
   },
   "outputs": [
    {
     "name": "stdout",
     "output_type": "stream",
     "text": [
      "found pickup after 28 steps\n",
      "\n",
      "made it to target area after 53 steps\n"
     ]
    },
    {
     "data": {
      "image/png": "[encoded data removed]",
      "text/plain": [
       "<matplotlib.figure.Figure at 0x7f95d3d15d30>"
      ]
     },
     "metadata": {},
     "output_type": "display_data"
    }
   ],
   "source": [
    "mouse.trial(plot=True)"
   ]
  },
  {
   "cell_type": "code",
   "execution_count": 575,
   "metadata": {
    "ExecuteTime": {
     "end_time": "2017-07-27T12:51:25.931819Z",
     "start_time": "2017-07-27T12:51:25.921390Z"
    },
    "collapsed": false
   },
   "outputs": [
    {
     "data": {
      "text/plain": [
       "0.0008913168282854751"
      ]
     },
     "execution_count": 575,
     "metadata": {},
     "output_type": "execute_result"
    }
   ],
   "source": [
    "mouse.eps"
   ]
  },
  {
   "cell_type": "code",
   "execution_count": 376,
   "metadata": {
    "ExecuteTime": {
     "end_time": "2017-07-26T22:57:35.679320Z",
     "start_time": "2017-07-26T22:57:35.670524Z"
    },
    "collapsed": false
   },
   "outputs": [
    {
     "data": {
      "text/plain": [
       "array([-0.65446173,  1.        , -0.37474768, -0.17184487])"
      ]
     },
     "execution_count": 376,
     "metadata": {},
     "output_type": "execute_result"
    }
   ],
   "source": [
    "mouse.step()\n",
    "mouse.newQ"
   ]
  },
  {
   "cell_type": "code",
   "execution_count": 466,
   "metadata": {
    "ExecuteTime": {
     "end_time": "2017-07-26T23:38:25.807939Z",
     "start_time": "2017-07-26T23:36:24.256155Z"
    },
    "collapsed": false,
    "editable": true
   },
   "outputs": [
    {
     "ename": "KeyboardInterrupt",
     "evalue": "",
     "output_type": "error",
     "traceback": [
      "\u001b[0;31m---------------------------------------------------------------------------\u001b[0m",
      "\u001b[0;31mAttributeError\u001b[0m                            Traceback (most recent call last)",
      "\u001b[0;32m/home/dpenguin/anaconda3/lib/python3.6/site-packages/numpy/core/fromnumeric.py\u001b[0m in \u001b[0;36msum\u001b[0;34m(a, axis, dtype, out, keepdims)\u001b[0m\n\u001b[1;32m   1840\u001b[0m         \u001b[0;32mtry\u001b[0m\u001b[0;34m:\u001b[0m\u001b[0;34m\u001b[0m\u001b[0m\n\u001b[0;32m-> 1841\u001b[0;31m             \u001b[0msum\u001b[0m \u001b[0;34m=\u001b[0m \u001b[0ma\u001b[0m\u001b[0;34m.\u001b[0m\u001b[0msum\u001b[0m\u001b[0;34m\u001b[0m\u001b[0m\n\u001b[0m\u001b[1;32m   1842\u001b[0m         \u001b[0;32mexcept\u001b[0m \u001b[0mAttributeError\u001b[0m\u001b[0;34m:\u001b[0m\u001b[0;34m\u001b[0m\u001b[0m\n",
      "\u001b[0;31mAttributeError\u001b[0m: 'list' object has no attribute 'sum'",
      "\nDuring handling of the above exception, another exception occurred:\n",
      "\u001b[0;31mKeyboardInterrupt\u001b[0m                         Traceback (most recent call last)",
      "\u001b[0;32m<ipython-input-466-ffa26d4f7893>\u001b[0m in \u001b[0;36m<module>\u001b[0;34m()\u001b[0m\n\u001b[1;32m      1\u001b[0m \u001b[0mcumulative\u001b[0m \u001b[0;34m=\u001b[0m \u001b[0mnp\u001b[0m\u001b[0;34m.\u001b[0m\u001b[0mzeros\u001b[0m\u001b[0;34m(\u001b[0m\u001b[0mlen\u001b[0m\u001b[0;34m(\u001b[0m\u001b[0mmouse\u001b[0m\u001b[0;34m.\u001b[0m\u001b[0mcumrew\u001b[0m\u001b[0;34m)\u001b[0m\u001b[0;34m)\u001b[0m\u001b[0;34m\u001b[0m\u001b[0m\n\u001b[1;32m      2\u001b[0m \u001b[0;32mfor\u001b[0m \u001b[0mi\u001b[0m \u001b[0;32min\u001b[0m \u001b[0mrange\u001b[0m\u001b[0;34m(\u001b[0m\u001b[0mlen\u001b[0m\u001b[0;34m(\u001b[0m\u001b[0mmouse\u001b[0m\u001b[0;34m.\u001b[0m\u001b[0mcumrew\u001b[0m\u001b[0;34m)\u001b[0m\u001b[0;34m)\u001b[0m\u001b[0;34m:\u001b[0m\u001b[0;34m\u001b[0m\u001b[0m\n\u001b[0;32m----> 3\u001b[0;31m     \u001b[0mcumulative\u001b[0m\u001b[0;34m[\u001b[0m\u001b[0mi\u001b[0m\u001b[0;34m]\u001b[0m \u001b[0;34m=\u001b[0m \u001b[0mnp\u001b[0m\u001b[0;34m.\u001b[0m\u001b[0msum\u001b[0m\u001b[0;34m(\u001b[0m\u001b[0mmouse\u001b[0m\u001b[0;34m.\u001b[0m\u001b[0mcumrew\u001b[0m\u001b[0;34m[\u001b[0m\u001b[0;34m:\u001b[0m\u001b[0mi\u001b[0m\u001b[0;34m]\u001b[0m\u001b[0;34m)\u001b[0m\u001b[0;34m\u001b[0m\u001b[0m\n\u001b[0m\u001b[1;32m      4\u001b[0m \u001b[0mplt\u001b[0m\u001b[0;34m.\u001b[0m\u001b[0mplot\u001b[0m\u001b[0;34m(\u001b[0m\u001b[0mcumulative\u001b[0m\u001b[0;34m)\u001b[0m\u001b[0;34m\u001b[0m\u001b[0m\n\u001b[1;32m      5\u001b[0m \u001b[0mplt\u001b[0m\u001b[0;34m.\u001b[0m\u001b[0mshow\u001b[0m\u001b[0;34m(\u001b[0m\u001b[0;34m)\u001b[0m\u001b[0;34m\u001b[0m\u001b[0m\n",
      "\u001b[0;32m/home/dpenguin/anaconda3/lib/python3.6/site-packages/numpy/core/fromnumeric.py\u001b[0m in \u001b[0;36msum\u001b[0;34m(a, axis, dtype, out, keepdims)\u001b[0m\n\u001b[1;32m   1842\u001b[0m         \u001b[0;32mexcept\u001b[0m \u001b[0mAttributeError\u001b[0m\u001b[0;34m:\u001b[0m\u001b[0;34m\u001b[0m\u001b[0m\n\u001b[1;32m   1843\u001b[0m             return _methods._sum(a, axis=axis, dtype=dtype,\n\u001b[0;32m-> 1844\u001b[0;31m                                 out=out, **kwargs)\n\u001b[0m\u001b[1;32m   1845\u001b[0m         \u001b[0;32mreturn\u001b[0m \u001b[0msum\u001b[0m\u001b[0;34m(\u001b[0m\u001b[0maxis\u001b[0m\u001b[0;34m=\u001b[0m\u001b[0maxis\u001b[0m\u001b[0;34m,\u001b[0m \u001b[0mdtype\u001b[0m\u001b[0;34m=\u001b[0m\u001b[0mdtype\u001b[0m\u001b[0;34m,\u001b[0m \u001b[0mout\u001b[0m\u001b[0;34m=\u001b[0m\u001b[0mout\u001b[0m\u001b[0;34m,\u001b[0m \u001b[0;34m**\u001b[0m\u001b[0mkwargs\u001b[0m\u001b[0;34m)\u001b[0m\u001b[0;34m\u001b[0m\u001b[0m\n\u001b[1;32m   1846\u001b[0m     \u001b[0;32melse\u001b[0m\u001b[0;34m:\u001b[0m\u001b[0;34m\u001b[0m\u001b[0m\n",
      "\u001b[0;32m/home/dpenguin/anaconda3/lib/python3.6/site-packages/numpy/core/_methods.py\u001b[0m in \u001b[0;36m_sum\u001b[0;34m(a, axis, dtype, out, keepdims)\u001b[0m\n\u001b[1;32m     30\u001b[0m \u001b[0;34m\u001b[0m\u001b[0m\n\u001b[1;32m     31\u001b[0m \u001b[0;32mdef\u001b[0m \u001b[0m_sum\u001b[0m\u001b[0;34m(\u001b[0m\u001b[0ma\u001b[0m\u001b[0;34m,\u001b[0m \u001b[0maxis\u001b[0m\u001b[0;34m=\u001b[0m\u001b[0;32mNone\u001b[0m\u001b[0;34m,\u001b[0m \u001b[0mdtype\u001b[0m\u001b[0;34m=\u001b[0m\u001b[0;32mNone\u001b[0m\u001b[0;34m,\u001b[0m \u001b[0mout\u001b[0m\u001b[0;34m=\u001b[0m\u001b[0;32mNone\u001b[0m\u001b[0;34m,\u001b[0m \u001b[0mkeepdims\u001b[0m\u001b[0;34m=\u001b[0m\u001b[0;32mFalse\u001b[0m\u001b[0;34m)\u001b[0m\u001b[0;34m:\u001b[0m\u001b[0;34m\u001b[0m\u001b[0m\n\u001b[0;32m---> 32\u001b[0;31m     \u001b[0;32mreturn\u001b[0m \u001b[0mumr_sum\u001b[0m\u001b[0;34m(\u001b[0m\u001b[0ma\u001b[0m\u001b[0;34m,\u001b[0m \u001b[0maxis\u001b[0m\u001b[0;34m,\u001b[0m \u001b[0mdtype\u001b[0m\u001b[0;34m,\u001b[0m \u001b[0mout\u001b[0m\u001b[0;34m,\u001b[0m \u001b[0mkeepdims\u001b[0m\u001b[0;34m)\u001b[0m\u001b[0;34m\u001b[0m\u001b[0m\n\u001b[0m\u001b[1;32m     33\u001b[0m \u001b[0;34m\u001b[0m\u001b[0m\n\u001b[1;32m     34\u001b[0m \u001b[0;32mdef\u001b[0m \u001b[0m_prod\u001b[0m\u001b[0;34m(\u001b[0m\u001b[0ma\u001b[0m\u001b[0;34m,\u001b[0m \u001b[0maxis\u001b[0m\u001b[0;34m=\u001b[0m\u001b[0;32mNone\u001b[0m\u001b[0;34m,\u001b[0m \u001b[0mdtype\u001b[0m\u001b[0;34m=\u001b[0m\u001b[0;32mNone\u001b[0m\u001b[0;34m,\u001b[0m \u001b[0mout\u001b[0m\u001b[0;34m=\u001b[0m\u001b[0;32mNone\u001b[0m\u001b[0;34m,\u001b[0m \u001b[0mkeepdims\u001b[0m\u001b[0;34m=\u001b[0m\u001b[0;32mFalse\u001b[0m\u001b[0;34m)\u001b[0m\u001b[0;34m:\u001b[0m\u001b[0;34m\u001b[0m\u001b[0m\n",
      "\u001b[0;31mKeyboardInterrupt\u001b[0m: "
     ]
    }
   ],
   "source": [
    "cumulative = np.zeros(len(mouse.cumrew))\n",
    "for i in range(len(mouse.cumrew)):\n",
    "    cumulative[i] = np.sum(mouse.cumrew[:i])\n",
    "plt.plot(cumulative)\n",
    "plt.show()"
   ]
  },
  {
   "cell_type": "code",
   "execution_count": 152,
   "metadata": {
    "ExecuteTime": {
     "end_time": "2017-07-26T18:29:17.609169Z",
     "start_time": "2017-07-26T18:29:17.313295Z"
    },
    "collapsed": false,
    "editable": true
   },
   "outputs": [
    {
     "data": {
      "image/png": "[encoded data removed]",
      "text/plain": [
       "<matplotlib.figure.Figure at 0x7f49ddd61080>"
      ]
     },
     "metadata": {},
     "output_type": "display_data"
    }
   ],
   "source": [
    "r = np.asarray(mouse.route)\n",
    "r = r[len(r)-914:]\n",
    "a = 0\n",
    "b = 914\n",
    "plt.plot(r[a:b,0],r[a:b,1])\n",
    "plt.show()"
   ]
  },
  {
   "cell_type": "code",
   "execution_count": 158,
   "metadata": {
    "ExecuteTime": {
     "end_time": "2017-07-26T18:30:52.327333Z",
     "start_time": "2017-07-26T18:30:52.097044Z"
    },
    "collapsed": false,
    "editable": true
   },
   "outputs": [
    {
     "data": {
      "image/png": "[encoded data removed]",
      "text/plain": [
       "<matplotlib.figure.Figure at 0x7f49ddddde10>"
      ]
     },
     "metadata": {},
     "output_type": "display_data"
    }
   ],
   "source": [
    "r = np.asarray(mouse.route)\n",
    "a = 4395\n",
    "b = a + 4\n",
    "plt.plot(r[a:b,0],r[a:b,1])\n",
    "plt.axhline(0)\n",
    "plt.show()"
   ]
  },
  {
   "cell_type": "code",
   "execution_count": 468,
   "metadata": {
    "ExecuteTime": {
     "end_time": "2017-07-26T23:38:43.278287Z",
     "start_time": "2017-07-26T23:38:43.110408Z"
    },
    "collapsed": false,
    "editable": true
   },
   "outputs": [
    {
     "data": {
      "image/png": "[encoded data removed]",
      "text/plain": [
       "<matplotlib.figure.Figure at 0x7f95d3688780>"
      ]
     },
     "metadata": {},
     "output_type": "display_data"
    }
   ],
   "source": [
    "cells = mouse.map\n",
    "act = mouse.newActivation[1]\n",
    "plt.scatter(cells[0],cells[1],c=mouse.oldActivation[1])\n",
    "plt.show()"
   ]
  },
  {
   "cell_type": "code",
   "execution_count": 469,
   "metadata": {
    "ExecuteTime": {
     "end_time": "2017-07-26T23:38:45.827225Z",
     "start_time": "2017-07-26T23:38:45.814482Z"
    },
    "collapsed": false,
    "editable": true
   },
   "outputs": [],
   "source": [
    "R = 1\n",
    "vectors = []\n",
    "for i in range(len(cells[0])):\n",
    "    mouse.position = cells[:,i]\n",
    "    mouse.input_layer()\n",
    "    mouse.output_layer\n",
    "    mouse.choose_action()\n",
    "    a = mouse.newAction\n",
    "    direction = mouse.directions[a]\n",
    "    vec = [np.cos(direction), np.sin(direction)] * R\n",
    "    vectors.append(vec)\n",
    "vectors = np.asarray(vectors)"
   ]
  },
  {
   "cell_type": "code",
   "execution_count": 470,
   "metadata": {
    "ExecuteTime": {
     "end_time": "2017-07-26T23:38:49.519154Z",
     "start_time": "2017-07-26T23:38:49.370337Z"
    },
    "collapsed": false,
    "editable": true
   },
   "outputs": [
    {
     "data": {
      "image/png": "[encoded data removed]",
      "text/plain": [
       "<matplotlib.figure.Figure at 0x7f95d4181d30>"
      ]
     },
     "metadata": {},
     "output_type": "display_data"
    }
   ],
   "source": [
    "plt.quiver(cells[0],cells[1],vectors[:,0],vectors[:,0])\n",
    "plt.show()"
   ]
  },
  {
   "cell_type": "code",
   "execution_count": 85,
   "metadata": {
    "ExecuteTime": {
     "end_time": "2017-07-26T11:06:37.420046Z",
     "start_time": "2017-07-26T11:06:27.782232Z"
    },
    "collapsed": true,
    "editable": true
   },
   "outputs": [],
   "source": [
    "N = 100000\n",
    "for i in range(N):\n",
    "    mouse.step(verbose = 0)\n"
   ]
  },
  {
   "cell_type": "code",
   "execution_count": 81,
   "metadata": {
    "ExecuteTime": {
     "end_time": "2017-07-26T10:57:00.712658Z",
     "start_time": "2017-07-26T10:57:00.398997Z"
    },
    "collapsed": true,
    "editable": true
   },
   "outputs": [],
   "source": [
    "r = np.array(mouse.route)\n"
   ]
  },
  {
   "cell_type": "code",
   "execution_count": 82,
   "metadata": {
    "ExecuteTime": {
     "end_time": "2017-07-26T10:57:09.139334Z",
     "start_time": "2017-07-26T10:57:00.714833Z"
    },
    "collapsed": false,
    "editable": true
   },
   "outputs": [
    {
     "data": {
      "image/png": "[encoded data removed]",
      "text/plain": [
       "<matplotlib.figure.Figure at 0x116a3fa58>"
      ]
     },
     "metadata": {},
     "output_type": "display_data"
    }
   ],
   "source": [
    "plt.scatter(r[:,0], r[:,1])\n",
    "plt.show()"
   ]
  },
  {
   "cell_type": "code",
   "execution_count": 222,
   "metadata": {
    "ExecuteTime": {
     "end_time": "2017-07-25T16:55:30.576652Z",
     "start_time": "2017-07-25T16:55:30.566493Z"
    },
    "collapsed": true,
    "editable": true
   },
   "outputs": [
    {
     "data": {
      "text/plain": [
       "(array([[ 0.,  0.,  0., ...,  0.,  0.,  0.],\n",
       "        [ 0.,  0.,  0., ...,  0.,  0.,  0.],\n",
       "        [ 0.,  0.,  0., ...,  0.,  0.,  0.],\n",
       "        [ 0.,  0.,  0., ...,  0.,  0.,  0.]]),\n",
       " array([[  5.86101871e-01,   8.92311360e-01,   4.99764328e-01,\n",
       "           1.02972108e-01,   7.80511800e-03,   2.17643078e-04,\n",
       "           2.23262490e-06,   8.42543219e-09,   1.16969903e-11,\n",
       "           5.97395006e-15,   1.12241785e-18,   7.75805868e-23,\n",
       "           5.69161993e-01,   8.66521226e-01,   4.85319831e-01,\n",
       "           9.99959449e-02,   7.57952966e-03,   2.11352624e-04,\n",
       "           2.16809620e-06,   8.18191515e-09,   1.13589166e-11,\n",
       "           5.80128727e-15,   1.08997704e-18,   7.53383048e-23,\n",
       "           2.03331279e-01,   3.09561903e-01,   1.73378939e-01,\n",
       "           3.57232276e-02,   2.70776243e-03,   7.55050406e-05,\n",
       "           7.74545349e-07,   2.92296270e-09,   4.05793620e-12,\n",
       "           2.07249110e-15,   3.89390768e-19,   2.69143655e-23,\n",
       "           2.67225570e-02,   4.06837828e-02,   2.27861084e-02,\n",
       "           4.69488015e-03,   3.55864264e-04,   9.92315478e-06,\n",
       "           1.01793646e-07,   3.84146688e-10,   5.33309149e-13,\n",
       "           2.72374530e-16,   5.11751908e-20,   3.53718655e-24,\n",
       "           1.29198464e-03,   1.96698327e-03,   1.10166486e-03,\n",
       "           2.26988496e-04,   1.72053581e-05,   4.79765598e-07,\n",
       "           4.92152854e-09,   1.85727593e-11,   2.57844797e-14,\n",
       "           1.31687888e-17,   2.47422282e-21,   1.71016220e-25,\n",
       "           2.29795864e-05,   3.49852935e-05,   1.95945076e-05,\n",
       "           4.03727845e-06,   3.06019128e-07,   8.53323998e-09,\n",
       "           8.75356305e-11,   3.30340093e-13,   4.58609691e-16,\n",
       "           2.34223619e-19,   4.40071926e-23,   3.04174049e-27,\n",
       "           1.50360091e-07,   2.28915867e-07,   1.28210835e-07,\n",
       "           2.64167313e-08,   2.00234518e-09,   5.58347188e-11,\n",
       "           5.72763374e-13,   2.16148219e-15,   3.00077617e-18,\n",
       "           1.53257262e-21,   2.87947982e-25,   1.99027246e-29,\n",
       "           3.61933242e-10,   5.51025615e-10,   3.08617551e-10,\n",
       "           6.35879715e-11,   4.81986461e-12,   1.34400296e-13,\n",
       "           1.37870430e-15,   5.20292486e-18,   7.22319758e-21,\n",
       "           3.68907049e-24,   6.93122394e-28,   4.79080425e-32,\n",
       "           3.20501365e-13,   4.87947613e-13,   2.73288924e-13,\n",
       "           5.63088141e-14,   4.26811635e-15,   1.19014982e-16,\n",
       "           1.22087877e-18,   4.60732623e-21,   6.39633063e-24,\n",
       "           3.26676854e-27,   6.13778033e-31,   4.24238263e-35,\n",
       "           1.04408730e-16,   1.58957172e-16,   8.90284801e-17,\n",
       "           1.83435467e-17,   1.39041095e-18,   3.87711395e-20,\n",
       "           3.97721867e-22,   1.50091429e-24,   2.08371267e-27,\n",
       "           1.06420499e-30,   1.99948555e-34,   1.38202775e-38,\n",
       "           1.25126489e-20,   1.90498944e-20,   1.06694346e-20,\n",
       "           2.19834452e-21,   1.66630932e-22,   4.64644725e-24,\n",
       "           4.76641570e-26,   1.79873978e-28,   2.49718248e-31,\n",
       "           1.27537453e-34,   2.39624222e-38,   1.65626266e-42,\n",
       "           5.51654574e-25,   8.39867040e-25,   4.70391397e-25,\n",
       "           9.69200703e-26,   7.34638339e-27,   2.04851419e-28,\n",
       "           2.10140558e-30,   7.93023950e-33,   1.10095164e-35,\n",
       "           5.62283972e-39,   1.05644935e-42,   7.30208991e-47,\n",
       "           5.86101871e-01,   8.92311360e-01,   5.69161993e-01,\n",
       "           8.66521226e-01,   2.03331279e-01,   3.09561903e-01,\n",
       "           2.67225570e-02,   4.06837828e-02,   1.29198464e-03,\n",
       "           1.96698327e-03,   2.29795864e-05,   3.49852935e-05,\n",
       "           1.50360091e-07,   2.28915867e-07,   3.61933242e-10,\n",
       "           5.51025615e-10,   3.20501365e-13,   4.87947613e-13,\n",
       "           1.04408730e-16,   1.58957172e-16],\n",
       "        [  0.00000000e+00,   0.00000000e+00,   0.00000000e+00,\n",
       "           0.00000000e+00,   0.00000000e+00,   0.00000000e+00,\n",
       "           0.00000000e+00,   0.00000000e+00,   0.00000000e+00,\n",
       "           0.00000000e+00,   0.00000000e+00,   0.00000000e+00,\n",
       "           0.00000000e+00,   0.00000000e+00,   0.00000000e+00,\n",
       "           0.00000000e+00,   0.00000000e+00,   0.00000000e+00,\n",
       "           0.00000000e+00,   0.00000000e+00,   0.00000000e+00,\n",
       "           0.00000000e+00,   0.00000000e+00,   0.00000000e+00,\n",
       "           0.00000000e+00,   0.00000000e+00,   0.00000000e+00,\n",
       "           0.00000000e+00,   0.00000000e+00,   0.00000000e+00,\n",
       "           0.00000000e+00,   0.00000000e+00,   0.00000000e+00,\n",
       "           0.00000000e+00,   0.00000000e+00,   0.00000000e+00,\n",
       "           0.00000000e+00,   0.00000000e+00,   0.00000000e+00,\n",
       "           0.00000000e+00,   0.00000000e+00,   0.00000000e+00,\n",
       "           0.00000000e+00,   0.00000000e+00,   0.00000000e+00,\n",
       "           0.00000000e+00,   0.00000000e+00,   0.00000000e+00,\n",
       "           0.00000000e+00,   0.00000000e+00,   0.00000000e+00,\n",
       "           0.00000000e+00,   0.00000000e+00,   0.00000000e+00,\n",
       "           0.00000000e+00,   0.00000000e+00,   0.00000000e+00,\n",
       "           0.00000000e+00,   0.00000000e+00,   0.00000000e+00,\n",
       "           0.00000000e+00,   0.00000000e+00,   0.00000000e+00,\n",
       "           0.00000000e+00,   0.00000000e+00,   0.00000000e+00,\n",
       "           0.00000000e+00,   0.00000000e+00,   0.00000000e+00,\n",
       "           0.00000000e+00,   0.00000000e+00,   0.00000000e+00,\n",
       "           0.00000000e+00,   0.00000000e+00,   0.00000000e+00,\n",
       "           0.00000000e+00,   0.00000000e+00,   0.00000000e+00,\n",
       "           0.00000000e+00,   0.00000000e+00,   0.00000000e+00,\n",
       "           0.00000000e+00,   0.00000000e+00,   0.00000000e+00,\n",
       "           0.00000000e+00,   0.00000000e+00,   0.00000000e+00,\n",
       "           0.00000000e+00,   0.00000000e+00,   0.00000000e+00,\n",
       "           0.00000000e+00,   0.00000000e+00,   0.00000000e+00,\n",
       "           0.00000000e+00,   0.00000000e+00,   0.00000000e+00,\n",
       "           0.00000000e+00,   0.00000000e+00,   0.00000000e+00,\n",
       "           0.00000000e+00,   0.00000000e+00,   0.00000000e+00,\n",
       "           0.00000000e+00,   0.00000000e+00,   0.00000000e+00,\n",
       "           0.00000000e+00,   0.00000000e+00,   0.00000000e+00,\n",
       "           0.00000000e+00,   0.00000000e+00,   0.00000000e+00,\n",
       "           0.00000000e+00,   0.00000000e+00,   0.00000000e+00,\n",
       "           0.00000000e+00,   0.00000000e+00,   0.00000000e+00,\n",
       "           0.00000000e+00,   0.00000000e+00,   0.00000000e+00,\n",
       "           0.00000000e+00,   0.00000000e+00,   0.00000000e+00,\n",
       "           0.00000000e+00,   0.00000000e+00,   0.00000000e+00,\n",
       "           0.00000000e+00,   0.00000000e+00,   0.00000000e+00,\n",
       "           0.00000000e+00,   0.00000000e+00,   0.00000000e+00,\n",
       "           0.00000000e+00,   0.00000000e+00,   0.00000000e+00,\n",
       "           0.00000000e+00,   0.00000000e+00,   0.00000000e+00,\n",
       "           0.00000000e+00,   0.00000000e+00,   0.00000000e+00,\n",
       "           0.00000000e+00,   0.00000000e+00,   0.00000000e+00,\n",
       "           0.00000000e+00,   0.00000000e+00,   0.00000000e+00,\n",
       "           0.00000000e+00,   0.00000000e+00,   0.00000000e+00,\n",
       "           0.00000000e+00,   0.00000000e+00,   0.00000000e+00,\n",
       "           0.00000000e+00,   0.00000000e+00,   0.00000000e+00,\n",
       "           0.00000000e+00,   0.00000000e+00,   0.00000000e+00,\n",
       "           0.00000000e+00,   0.00000000e+00,   0.00000000e+00,\n",
       "           0.00000000e+00,   0.00000000e+00]]))"
      ]
     },
     "execution_count": 222,
     "metadata": {},
     "output_type": "execute_result"
    }
   ],
   "source": [
    "mouse.trace, mouse.inputLayer"
   ]
  },
  {
   "cell_type": "code",
   "execution_count": 484,
   "metadata": {
    "ExecuteTime": {
     "end_time": "2017-07-25T17:27:35.129603Z",
     "start_time": "2017-07-25T17:27:35.125378Z"
    },
    "collapsed": true,
    "editable": true
   },
   "outputs": [],
   "source": [
    "Q = mouse.Q\n",
    "at = mouse.last_action\n",
    "at1 = mouse.current_action\n",
    "pos = mouse.position\n"
   ]
  },
  {
   "cell_type": "code",
   "execution_count": null,
   "metadata": {
    "collapsed": true,
    "editable": true
   },
   "outputs": [],
   "source": []
  },
  {
   "cell_type": "code",
   "execution_count": 227,
   "metadata": {
    "ExecuteTime": {
     "end_time": "2017-07-25T17:02:36.578497Z",
     "start_time": "2017-07-25T17:02:36.574315Z"
    },
    "collapsed": true,
    "editable": true
   },
   "outputs": [],
   "source": []
  },
  {
   "cell_type": "code",
   "execution_count": null,
   "metadata": {
    "collapsed": true,
    "editable": true
   },
   "outputs": [],
   "source": []
  },
  {
   "cell_type": "code",
   "execution_count": null,
   "metadata": {
    "collapsed": true,
    "editable": true
   },
   "outputs": [],
   "source": []
  },
  {
   "cell_type": "code",
   "execution_count": null,
   "metadata": {
    "collapsed": true,
    "editable": true
   },
   "outputs": [],
   "source": []
  },
  {
   "cell_type": "code",
   "execution_count": null,
   "metadata": {
    "collapsed": true,
    "editable": true
   },
   "outputs": [],
   "source": []
  },
  {
   "cell_type": "code",
   "execution_count": null,
   "metadata": {
    "collapsed": true,
    "editable": true
   },
   "outputs": [],
   "source": []
  }
 ],
 "metadata": {
  "anaconda-cloud": {},
  "kernelspec": {
   "display_name": "Python 3",
   "language": "python",
   "name": "python3"
  },
  "language_info": {
   "codemirror_mode": {
    "name": "ipython",
    "version": 3
   },
   "file_extension": ".py",
   "mimetype": "text/x-python",
   "name": "python",
   "nbconvert_exporter": "python",
   "pygments_lexer": "ipython3",
   "version": "3.6.0"
  },
  "toc": {
   "colors": {
    "hover_highlight": "#DAA520",
    "running_highlight": "#FF0000",
    "selected_highlight": "#FFD700"
   },
   "moveMenuLeft": true,
   "nav_menu": {
    "height": "12px",
    "width": "252px"
   },
   "navigate_menu": true,
   "number_sections": true,
   "sideBar": true,
   "threshold": 4,
   "toc_cell": false,
   "toc_section_display": "block",
   "toc_window_display": false,
   "widenNotebook": false
  },
  "varInspector": {
   "cols": {
    "lenName": 16,
    "lenType": 16,
    "lenVar": 40
   },
   "kernels_config": {
    "python": {
     "delete_cmd_postfix": "",
     "delete_cmd_prefix": "del ",
     "library": "var_list.py",
     "varRefreshCmd": "print(var_dic_list())"
    },
    "r": {
     "delete_cmd_postfix": ") ",
     "delete_cmd_prefix": "rm(",
     "library": "var_list.r",
     "varRefreshCmd": "cat(var_dic_list()) "
    }
   },
   "types_to_exclude": [
    "module",
    "function",
    "builtin_function_or_method",
    "instance",
    "_Feature"
   ],
   "window_display": false
  }
 },
 "nbformat": 4,
 "nbformat_minor": 2
}
