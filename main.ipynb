{
 "cells": [
  {
   "cell_type": "code",
   "execution_count": 413,
   "metadata": {
    "ExecuteTime": {
     "end_time": "2017-07-24T19:48:59.792490Z",
     "start_time": "2017-07-24T19:48:59.562039Z"
    },
    "collapsed": false
   },
   "outputs": [],
   "source": [
    "import numpy as np\n",
    "\n",
    "class Maze(object):\n",
    "        \n",
    "    staff_y = [0,60]\n",
    "    staff_x = [0,10]\n",
    "    bar_y = [50,60]\n",
    "    bar_x = [-50,60]\n",
    "    target_x = [-50,-30]\n",
    "    target_y = [50,60]\n",
    "    pickup_x = [40,60]\n",
    "    pickup_y = [50,60]\n",
    "    \n",
    "    def __init__(self):\n",
    "        pass\n",
    "        \n",
    "    def valid_x(self,x):\n",
    "        if self.bar_x[0]<x<self.bar_x[1]:\n",
    "            inBar_x = True\n",
    "        else: inBar_x = False\n",
    "        if self.staff_x[0]<x<self.staff_x[1]:\n",
    "            inStaff_x = True\n",
    "        else: inStaff_x = False\n",
    "        return inBar_x, inStaff_x\n",
    "        \n",
    "    def valid_y(self,y):\n",
    "        if self.bar_y[0]<y<self.bar_y[1]:\n",
    "            inBar_y = True\n",
    "        else: inBar_y = False\n",
    "        if self.staff_y[0]<y<self.staff_y[1]:\n",
    "            inStaff_y = True\n",
    "        else: inStaff_y = False\n",
    "        return inBar_y, inStaff_y\n",
    "    \n",
    "    def rough_location(self,position):\n",
    "        inBar_x, inStaff_x = self.valid_x(position[0])\n",
    "        inBar_y, inStaff_y = self.valid_y(position[1])\n",
    "        inBar = inBar_x and inBar_y\n",
    "        inStaff = inStaff_x and inStaff_y\n",
    "        return inBar, inStaff\n",
    "    \n",
    "    def in_reward(self,position):\n",
    "        if position[0]<self.target_x[1]:\n",
    "            return True\n",
    "        else:\n",
    "            return False        \n",
    "    \n",
    "    def in_pickup(self,position):\n",
    "        if position[0]>self.pickup_x[0]:\n",
    "            return True\n",
    "        else:\n",
    "            return False\n",
    "    \n",
    "    \n",
    "class Agent(object):\n",
    "    \n",
    "    def __init__(self, pos = [5,0], eps = .1):\n",
    "        self.position = np.array(pos)\n",
    "        self.maze = Maze()\n",
    "        self.inBar = False\n",
    "        self.inStaff = True\n",
    "        self.alpha = False\n",
    "        self.rewarded = False\n",
    "        self.placeCells = self.make_places()\n",
    "        self.placeFieldSize = 5\n",
    "        self.numberIn = len(self.placeCells.T)\n",
    "        self.numberOut = 4 #given as value to start with\n",
    "        self.inputLayer = np.zeros((2,self.numberIn))\n",
    "        self.outputLayer = np.zeros(self.numberOut)\n",
    "        self.weights = np.random.random(size=(len(self.outputLayer),len(self.inputLayer.flatten())))\n",
    "        self.directions = 2*np.pi*np.arange(0,self.numberOut)/self.numberOut\n",
    "        self.eps = eps\n",
    "\n",
    "\n",
    "    def get_direction(self):\n",
    "        ###this is gonna change\n",
    "        direction = 2*np.pi*np.random.random()\n",
    "        return direction\n",
    "    \n",
    "    def make_places(self, offset = 2.5, seperation = 5):\n",
    "        \"\"\"Create the centers of the place cell activity.\n",
    "        input:\n",
    "            offset - how far from the edge the first place cell should\n",
    "            seperation - the distance between adjacent centers measured in one dimension\n",
    "        For both the staff and the bar of the T maze meshgrids are created\n",
    "        (in such a way as to not overlap!) which are flattened and then h- and vstacked\n",
    "        to create a 2 x #(place cells) array that stores the centers\n",
    "        The offset is only taken into account on one side\n",
    "        \"\"\"\n",
    "        x = np.arange(offset,self.maze.bar_x[-1],seperation)\n",
    "        y = np.arange(offset,self.maze.bar_y[-1],seperation)\n",
    "        XX, YY = np.meshgrid(x,y)\n",
    "        bargrid = np.vstack((XX.flatten(),YY.flatten()))\n",
    "        x = np.arange(offset,self.maze.staff_x[-1],seperation)\n",
    "        y = np.arange(offset,self.maze.bar_y[0],seperation)\n",
    "        XX, YY = np.meshgrid(x,y)\n",
    "        staffgrid = np.vstack((XX.flatten(),YY.flatten()))\n",
    "        cells = np.hstack((bargrid,staffgrid))\n",
    "        return cells\n",
    "    \n",
    "    def input_layer(self):\n",
    "        \"\"\"Compute the activation of the input layer for a given position and state and update the variable\n",
    "        \"\"\"\n",
    "        activation = np.zeros(np.shape(self.inputLayer))\n",
    "        for i in range(len(self.inputLayer)):\n",
    "            kronecker = bool(i)==self.alpha\n",
    "            activation[i] = kronecker*np.exp(-np.sum((self.placeCells.T-self.position)**2,axis=1)/(2*self.placeFieldSize**2))\n",
    "        self.inputLayer = activation\n",
    "        \n",
    "    def output_layer(self):\n",
    "        self.outputLayer = np.dot(self.weights,self.inputLayer.flatten())\n",
    "    \n",
    "    def choose_direction(self):\n",
    "        if np.random.random()<self.eps:\n",
    "            return self.directions[np.random.randint(self.numberOut)]\n",
    "        else:\n",
    "            self.input_layer()\n",
    "            self.output_layer()\n",
    "            a = np.argmax(self.outputLayer)\n",
    "            return self.directions[a]\n",
    "        \n",
    "    def valid_move(self,new_position):\n",
    "        \"\"\"Checks\n",
    "        \"\"\"\n",
    "        inBar, inStaff = self.maze.rough_location(new_position)\n",
    "        if self.inBar==inBar or self.inStaff==inStaff:\n",
    "            if inBar or inStaff:\n",
    "                self.inBar = inBar\n",
    "                self.inStaff = inStaff\n",
    "                return True\n",
    "            else: return False\n",
    "        else: return False\n",
    "        \n",
    "    def move(self):\n",
    "        valid = False\n",
    "        while not valid:\n",
    "            direction = self.choose_direction()\n",
    "            distance = np.random.normal(loc=3,scale=1.5)\n",
    "            move = np.array([np.cos(direction)*distance,np.sin(direction)*distance])\n",
    "            new_position = self.position+move\n",
    "            valid = self.valid_move(new_position)\n",
    "        self.position = new_position\n",
    "    \n",
    "        if not self.alpha:\n",
    "            self.alpha = self.maze.in_pickup(self.position)\n",
    "        else:\n",
    "            if self.maze.in_reward(self.position):\n",
    "                self.rewarded = True\n",
    "                \n",
    "                \n",
    "def simulate():\n",
    "    mouse = Agent()\n",
    "    positions = []\n",
    "    k=0\n",
    "    a = False\n",
    "    while not mouse.rewarded:\n",
    "        positions.append(mouse.position)\n",
    "        mouse.move()\n",
    "        if mouse.alpha and not a:\n",
    "            pickupsteps = k\n",
    "            print('found reward after %.d steps'%(k))\n",
    "            a = True\n",
    "        k+=1\n",
    "        if k%1000==0:\n",
    "            print(k)\n",
    "    print('')\n",
    "    print('made it to target area after %.d steps'%(k))\n",
    "    positions = np.asarray(positions)\n",
    "    plt.scatter(positions[:,0],positions[:,1],marker='.',linewidths=0)\n",
    "    plt.gca().set_aspect('equal')\n",
    "    plt.show()\n",
    "    return pickupsteps, k"
   ]
  },
  {
   "cell_type": "code",
   "execution_count": 414,
   "metadata": {
    "ExecuteTime": {
     "end_time": "2017-07-24T19:49:01.188569Z",
     "start_time": "2017-07-24T19:49:01.184749Z"
    },
    "collapsed": false
   },
   "outputs": [],
   "source": [
    "mouse = Agent()"
   ]
  },
  {
   "cell_type": "code",
   "execution_count": 407,
   "metadata": {
    "ExecuteTime": {
     "end_time": "2017-07-24T19:47:33.693297Z",
     "start_time": "2017-07-24T19:47:33.685762Z"
    },
    "collapsed": false
   },
   "outputs": [
    {
     "name": "stdout",
     "output_type": "stream",
     "text": [
      "3.14159265359\n",
      "3.14159265359\n",
      "1.57079632679\n"
     ]
    },
    {
     "data": {
      "text/plain": [
       "3.1415926535897931"
      ]
     },
     "execution_count": 407,
     "metadata": {},
     "output_type": "execute_result"
    }
   ],
   "source": [
    "mouse.move()\n",
    "mouse.choose_direction()\n"
   ]
  },
  {
   "cell_type": "code",
   "execution_count": null,
   "metadata": {
    "collapsed": true
   },
   "outputs": [],
   "source": []
  },
  {
   "cell_type": "code",
   "execution_count": null,
   "metadata": {
    "collapsed": true
   },
   "outputs": [],
   "source": []
  },
  {
   "cell_type": "code",
   "execution_count": null,
   "metadata": {
    "collapsed": true
   },
   "outputs": [],
   "source": []
  },
  {
   "cell_type": "code",
   "execution_count": null,
   "metadata": {
    "collapsed": true
   },
   "outputs": [],
   "source": []
  },
  {
   "cell_type": "code",
   "execution_count": null,
   "metadata": {
    "collapsed": true
   },
   "outputs": [],
   "source": []
  }
 ],
 "metadata": {
  "kernelspec": {
   "display_name": "Python 3",
   "language": "python",
   "name": "python3"
  },
  "language_info": {
   "codemirror_mode": {
    "name": "ipython",
    "version": 3
   },
   "file_extension": ".py",
   "mimetype": "text/x-python",
   "name": "python",
   "nbconvert_exporter": "python",
   "pygments_lexer": "ipython3",
   "version": "3.6.0"
  },
  "varInspector": {
   "cols": {
    "lenName": 16,
    "lenType": 16,
    "lenVar": 40
   },
   "kernels_config": {
    "python": {
     "delete_cmd_postfix": "",
     "delete_cmd_prefix": "del ",
     "library": "var_list.py",
     "varRefreshCmd": "print(var_dic_list())"
    },
    "r": {
     "delete_cmd_postfix": ") ",
     "delete_cmd_prefix": "rm(",
     "library": "var_list.r",
     "varRefreshCmd": "cat(var_dic_list()) "
    }
   },
   "types_to_exclude": [
    "module",
    "function",
    "builtin_function_or_method",
    "instance",
    "_Feature"
   ],
   "window_display": false
  }
 },
 "nbformat": 4,
 "nbformat_minor": 2
}
